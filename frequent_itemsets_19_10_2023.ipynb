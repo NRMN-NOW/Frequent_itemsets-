{
 "cells": [
  {
   "cell_type": "code",
   "execution_count": 6,
   "metadata": {},
   "outputs": [],
   "source": [
    "import pandas as pd\n",
    "from mlxtend.frequent_patterns import apriori\n",
    "from mlxtend.frequent_patterns import association_rules\n",
    "\n",
    "\n"
   ]
  },
  {
   "cell_type": "code",
   "execution_count": 4,
   "metadata": {},
   "outputs": [
    {
     "data": {
      "text/plain": [
       "Index(['food_id', 'ID_commande', 'Point_de_vente', 'Designation_article',\n",
       "       'Prix_de_vente_unitaire', 'quantite', 'jour_de_la_commande', 'hour',\n",
       "       'main_category', 'sous_famille', 'barcode'],\n",
       "      dtype='object')"
      ]
     },
     "execution_count": 4,
     "metadata": {},
     "output_type": "execute_result"
    }
   ],
   "source": [
    "Data = pd.read_csv('markets_products_orders.csv',delimiter=',')\n",
    "Data.columns"
   ]
  },
  {
   "cell_type": "code",
   "execution_count": null,
   "metadata": {},
   "outputs": [],
   "source": [
    "# Define the minimum support threshold (e.g., 0.1, meaning 10% of transactions)\n",
    "min_support = 0.1\n",
    "\n",
    "# Generate frequent itemsets\n",
    "frequent_itemsets = apriori(Data, min_support=min_support, use_colnames=True)\n"
   ]
  },
  {
   "cell_type": "code",
   "execution_count": null,
   "metadata": {},
   "outputs": [],
   "source": [
    "# Generate association rules\n",
    "rules = association_rules(frequent_itemsets, metric=\"lift\", min_threshold=1.0)\n"
   ]
  },
  {
   "cell_type": "code",
   "execution_count": null,
   "metadata": {},
   "outputs": [],
   "source": [
    "# View frequent itemsets\n",
    "print(frequent_itemsets)\n",
    "\n",
    "# View association rules\n",
    "print(rules)\n"
   ]
  },
  {
   "cell_type": "code",
   "execution_count": 42,
   "metadata": {},
   "outputs": [
    {
     "name": "stdout",
     "output_type": "stream",
     "text": [
      "Frequent Itemsets:\n",
      "      support                                           itemsets\n",
      "0    0.058824                     (ALADIN fromage frais abricot)\n",
      "1    0.058824                               (AYRIS  Eau minéral)\n",
      "2    0.058824                            (AZRA Sauce algérienne)\n",
      "3    0.058824                    (BELIEDELICE Biscuit duo molto)\n",
      "4    0.058824                         (BEN HAROUNE Eau gazifier)\n",
      "..        ...                                                ...\n",
      "127  0.058824  (CANDIA Candy Choco, OIKOS Yaourt fraise , COC...\n",
      "128  0.058824  (CANDIA Candy Choco, OIKOS Yaourt fraise , ELI...\n",
      "129  0.058824  (OIKOS Yaourt fraise , ELIO Huile de table, CO...\n",
      "130  0.058824  (RÉGALO Biscuit digestive Cacao, MAXON Cookies...\n",
      "131  0.058824  (COCA COLA  Soda, ELIO Huile de table, OIKOS y...\n",
      "\n",
      "[132 rows x 2 columns]\n",
      "\n",
      "Association Rules:\n",
      "                          antecedents  \\\n",
      "0       (MAXON Cookies pepite family)   \n",
      "1             (AZRA Sauce algérienne)   \n",
      "2             (MAXON Pate a tartiner)   \n",
      "3             (AZRA Sauce algérienne)   \n",
      "4    (RÉGALO Biscuit digestive Cacao)   \n",
      "..                                ...   \n",
      "363                 (COCA COLA  Soda)   \n",
      "364             (ELIO Huile de table)   \n",
      "365             (OIKOS yaourt peche )   \n",
      "366              (CANDIA Candy Choco)   \n",
      "367            (OIKOS Yaourt fraise )   \n",
      "\n",
      "                                           consequents  antecedent support  \\\n",
      "0                              (AZRA Sauce algérienne)            0.117647   \n",
      "1                        (MAXON Cookies pepite family)            0.058824   \n",
      "2                              (AZRA Sauce algérienne)            0.137255   \n",
      "3                              (MAXON Pate a tartiner)            0.058824   \n",
      "4                              (AZRA Sauce algérienne)            0.098039   \n",
      "..                                                 ...                 ...   \n",
      "363  (CANDIA Candy Choco, OIKOS Yaourt fraise , ELI...            0.078431   \n",
      "364  (CANDIA Candy Choco, OIKOS Yaourt fraise , COC...            0.196078   \n",
      "365  (ELIO Huile de table, OIKOS Yaourt fraise , CA...            0.078431   \n",
      "366  (ELIO Huile de table, OIKOS Yaourt fraise , CO...            0.156863   \n",
      "367  (ELIO Huile de table, CANDIA Candy Choco, COCA...            0.058824   \n",
      "\n",
      "     consequent support   support  confidence       lift  leverage  \\\n",
      "0              0.058824  0.058824    0.500000   8.500000  0.051903   \n",
      "1              0.117647  0.058824    1.000000   8.500000  0.051903   \n",
      "2              0.058824  0.058824    0.428571   7.285714  0.050750   \n",
      "3              0.137255  0.058824    1.000000   7.285714  0.050750   \n",
      "4              0.058824  0.058824    0.600000  10.200000  0.053057   \n",
      "..                  ...       ...         ...        ...       ...   \n",
      "363            0.058824  0.058824    0.750000  12.750000  0.054210   \n",
      "364            0.058824  0.058824    0.300000   5.100000  0.047290   \n",
      "365            0.058824  0.058824    0.750000  12.750000  0.054210   \n",
      "366            0.058824  0.058824    0.375000   6.375000  0.049596   \n",
      "367            0.058824  0.058824    1.000000  17.000000  0.055363   \n",
      "\n",
      "     conviction  zhangs_metric  \n",
      "0      1.882353       1.000000  \n",
      "1           inf       0.937500  \n",
      "2      1.647059       1.000000  \n",
      "3           inf       0.916667  \n",
      "4      2.352941       1.000000  \n",
      "..          ...            ...  \n",
      "363    3.764706       1.000000  \n",
      "364    1.344538       1.000000  \n",
      "365    3.764706       1.000000  \n",
      "366    1.505882       1.000000  \n",
      "367         inf       1.000000  \n",
      "\n",
      "[368 rows x 10 columns]\n"
     ]
    },
    {
     "name": "stderr",
     "output_type": "stream",
     "text": [
      "c:\\Users\\yassir\\AppData\\Local\\Programs\\Python\\Python311\\Lib\\site-packages\\mlxtend\\frequent_patterns\\fpcommon.py:110: DeprecationWarning: DataFrames with non-bool types result in worse computationalperformance and their support might be discontinued in the future.Please use a DataFrame with bool type\n",
      "  warnings.warn(\n"
     ]
    }
   ],
   "source": [
    "import pandas as pd\n",
    "from mlxtend.frequent_patterns import apriori\n",
    "from mlxtend.frequent_patterns import association_rules\n",
    "\n",
    "# Load your dataset (replace 'your_dataset.csv' with the actual file path)\n",
    "#data = pd.read_csv('markets_products_orders.csv')\n",
    "data = pd.read_excel('data_market_preprocessed.xlsx',sheet_name='Feuil17')\n",
    "\n",
    "\n",
    "# Data preprocessing: Create a basket of items using 'food_id'\n",
    "basket = data.groupby(['ID_commande', 'products'])['quantite'].sum().unstack().reset_index().fillna(0).set_index('ID_commande')\n",
    "\n",
    "# Convert quantities to binary values (1 if an item was in the order, 0 if not)\n",
    "def encode_units(x):\n",
    "    if x <= 0:\n",
    "        return 0\n",
    "    if x >= 1:\n",
    "        return 1\n",
    "\n",
    "basket_sets = basket.applymap(encode_units)\n",
    "\n",
    "# Apply the Apriori algorithm\n",
    "min_support = 0.05 # Adjust the support threshold as needed\n",
    "frequent_itemsets = apriori(basket_sets, min_support=min_support, use_colnames=True)\n",
    "\n",
    "# Generate association rules\n",
    "rules = association_rules(frequent_itemsets, metric=\"lift\", min_threshold=1.0)\n",
    "\n",
    "# View frequent itemsets and association rules\n",
    "print(\"Frequent Itemsets:\")\n",
    "print(frequent_itemsets)\n",
    "\n",
    "print(\"\\nAssociation Rules:\")\n",
    "print(rules)\n",
    "\n",
    "\n",
    "# Create a DataFrame to save the frequent itemsets\n",
    "frequent_itemsets_df = pd.DataFrame(frequent_itemsets)\n",
    "\n",
    "# Save the DataFrame to a CSV file\n",
    "frequent_itemsets_df.to_csv('frequent_itemsets2.csv', index=False)\n"
   ]
  },
  {
   "cell_type": "code",
   "execution_count": 38,
   "metadata": {},
   "outputs": [
    {
     "name": "stderr",
     "output_type": "stream",
     "text": [
      "c:\\Users\\yassir\\AppData\\Local\\Programs\\Python\\Python311\\Lib\\site-packages\\sklearn\\cluster\\_kmeans.py:1412: FutureWarning: The default value of `n_init` will change from 10 to 'auto' in 1.4. Set the value of `n_init` explicitly to suppress the warning\n",
      "  super()._check_params_vs_input(X, default_n_init=10)\n"
     ]
    },
    {
     "data": {
      "image/png": "[encoded data removed]",
      "text/plain": [
       "<Figure size 640x480 with 1 Axes>"
      ]
     },
     "metadata": {},
     "output_type": "display_data"
    }
   ],
   "source": [
    "import pandas as pd\n",
    "from sklearn.cluster import KMeans\n",
    "import matplotlib.pyplot as plt\n",
    "\n",
    "# Load your data into a DataFrame (replace 'your_dataset.csv' with the actual file path)\n",
    "data = pd.read_excel('data_market_preprocessed.xlsx',sheet_name='Feuil2')\n",
    "\n",
    "# Calculate the total number of orders by 'food_id'\n",
    "total_orders = data.groupby('food_id')['ID_commande'].nunique().reset_index()\n",
    "total_orders.rename(columns={'ID_commande': 'Total_Orders'}, inplace=True)\n",
    "\n",
    "# Calculate the sum of quantities by 'food_id'\n",
    "sum_of_quantity = data.groupby('food_id')['quantite'].sum().reset_index()\n",
    "sum_of_quantity.rename(columns={'quantite': 'Sum_of_Quantity'}, inplace=True)\n",
    "\n",
    "# Merge the dataframes on 'food_id'\n",
    "merged_data = pd.merge(total_orders, sum_of_quantity , on='food_id')\n",
    "# Merge 'Designation_article' and 'main_category' based on 'food_id'\n",
    "merged_data = pd.merge(merged_data, data[['food_id','products','main_category']], on='food_id')\n",
    "\n",
    "# Select features for clustering\n",
    "features = merged_data[['Total_Orders', 'Sum_of_Quantity']]\n",
    "\n",
    "# Choose the number of clusters (K) - adjust as needed\n",
    "K = 4 # Example: 3 clusters\n",
    "\n",
    "# Perform K-Means clustering\n",
    "kmeans = KMeans(n_clusters=K, random_state=0)\n",
    "merged_data['Cluster'] = kmeans.fit_predict(features)\n",
    "\n",
    "clustered_data = merged_data.copy()  # Create a copy of the merged data with cluster labels\n",
    "# Save the DataFrame to a CSV file\n",
    "clustered_data.to_csv('clustered_data.csv', index=False)\n",
    "\n",
    "# Scatter plot to visualize the clusters\n",
    "plt.scatter(clustered_data['Total_Orders'], clustered_data['Sum_of_Quantity'], c=clustered_data['Cluster'])\n",
    "plt.xlabel('Total Orders')\n",
    "plt.ylabel('Sum of Quantity')\n",
    "plt.title('K-Means Clustering of Products')\n",
    "plt.show()\n"
   ]
  },
  {
   "cell_type": "code",
   "execution_count": 64,
   "metadata": {},
   "outputs": [
    {
     "name": "stdout",
     "output_type": "stream",
     "text": [
      "Frequent Itemsets:\n",
      "      support                                           itemsets\n",
      "0    0.047423                 (CANDIA lait partiellement ecrémé)\n",
      "1    0.057732                                    (SOMMAM Nature)\n",
      "2    0.047423                       (COCO RICO Barquette d'œufs)\n",
      "3    0.022680                     (CHIUAUA Graines de tournesol)\n",
      "4    0.022680                      (KOOL Gaufrette fourée enjoy)\n",
      "..        ...                                                ...\n",
      "467  0.018557  (SOUMMAM creme dessert flan, TASSILI yaourt a ...\n",
      "468  0.016495      (TASSILI yaourt a boire, BIMO Galette senior)\n",
      "469  0.016495      (TASSILI yaourt a boire, MAXON Chocolat noir)\n",
      "470  0.016495  (SOUMMAM creme dessert flan, TASSILI yaourt a ...\n",
      "471  0.016495  (SOUMMAM creme dessert flan, TASSILI yaourt a ...\n",
      "\n",
      "[472 rows x 2 columns]\n"
     ]
    },
    {
     "name": "stderr",
     "output_type": "stream",
     "text": [
      "c:\\Users\\yassir\\AppData\\Local\\Programs\\Python\\Python311\\Lib\\site-packages\\mlxtend\\frequent_patterns\\fpcommon.py:110: DeprecationWarning: DataFrames with non-bool types result in worse computationalperformance and their support might be discontinued in the future.Please use a DataFrame with bool type\n",
      "  warnings.warn(\n"
     ]
    }
   ],
   "source": [
    "import pandas as pd\n",
    "from mlxtend.frequent_patterns import fpgrowth\n",
    "from mlxtend.frequent_patterns import association_rules\n",
    "\n",
    "data = pd.read_excel('data_market_preprocessed.xlsx',sheet_name='Data')\n",
    "\n",
    "# Data preprocessing: Create a basket of items using 'Designation_article'\n",
    "\n",
    "basket = data.groupby(['ID_commande', 'products'])['quantite'].sum().unstack().reset_index().fillna(0).set_index('ID_commande')\n",
    "\n",
    "# Convert quantities to binary values (1 if an item was in the order, 0 if not)\n",
    "def encode_units(x):\n",
    "    if x <= 0:\n",
    "        return 0\n",
    "    if x >= 1:\n",
    "        return 1\n",
    "\n",
    "basket_sets = basket.applymap(encode_units)\n",
    "\n",
    "# Adjust the support threshold (you can adjust this as needed)\n",
    "min_support = 0.015  # Lower the threshold\n",
    "frequent_itemsets = fpgrowth(basket_sets, min_support=min_support, use_colnames=True)\n",
    "\n",
    "# Generate association rules (if needed)\n",
    "# rules = association_rules(frequent_itemsets, metric=\"lift\", min_threshold=1.0)\n",
    "\n",
    "# View frequent itemsets\n",
    "print(\"Frequent Itemsets:\")\n",
    "print(frequent_itemsets)\n",
    "\n",
    "# Create a DataFrame to save the frequent itemsets\n",
    "#frequent_itemsets_df = pd.DataFrame(frequent_itemsets)\n",
    "rules = association_rules(frequent_itemsets, metric=\"lift\", min_threshold=1.0)\n",
    "rules\n",
    "rules_fpgrowth=pd.DataFrame(rules)\n",
    "rules_fpgrowth.to_csv('rulesfpgrowth.csv', index=False)\n",
    "# Save the DataFrame to a CSV file\n",
    "#frequent_itemsets_df.to_csv('frequent_itemsetsfpgrowth.csv', index=False)"
   ]
  }
 ],
 "metadata": {
  "kernelspec": {
   "display_name": "Python 3",
   "language": "python",
   "name": "python3"
  },
  "language_info": {
   "codemirror_mode": {
    "name": "ipython",
    "version": 3
   },
   "file_extension": ".py",
   "mimetype": "text/x-python",
   "name": "python",
   "nbconvert_exporter": "python",
   "pygments_lexer": "ipython3",
   "version": "3.11.4"
  }
 },
 "nbformat": 4,
 "nbformat_minor": 2
}
